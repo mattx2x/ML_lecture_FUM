{
 "cells": [
  {
   "cell_type": "code",
   "execution_count": null,
   "metadata": {},
   "outputs": [],
   "source": [
    "import numpy as np\n",
    "import matplotlib.pyplot as plt\n",
    "from sklearn.datasets import fetch_openml\n",
    "import pandas as pd"
   ]
  },
  {
   "cell_type": "markdown",
   "metadata": {},
   "source": [
    "## Sobel"
   ]
  },
  {
   "cell_type": "code",
   "execution_count": null,
   "metadata": {},
   "outputs": [],
   "source": [
    "def convolve2d(image, kernel):\n",
    "    kernel_height, kernel_width = kernel.shape\n",
    "    # Calculate the padding size\n",
    "    pad_height = kernel_height // 2\n",
    "    pad_width = kernel_width // 2\n",
    "    \n",
    "    padded_image = np.pad(image, ((pad_height, pad_height), (pad_width, pad_width)), mode='constant', constant_values=0)\n",
    "    padded_height, padded_width = padded_image.shape\n",
    "    output = np.zeros_like(image, dtype=np.float32)\n",
    "\n",
    "    # Perform convolution\n",
    "    for i in range(pad_height, padded_height - pad_height):\n",
    "        for j in range(pad_width, padded_width - pad_width):\n",
    "            region = padded_image[i - pad_height:i + pad_height + 1, j - pad_width:j + pad_width + 1]\n",
    "            output[i - pad_height, j - pad_width] = np.sum(region * kernel)\n",
    "\n",
    "    return output\n",
    "\n",
    "\n",
    "def apply_sobel_filters(image):\n",
    "    # Sobel kernels\n",
    "    sobel_x = np.array([[1, 0, -1],\n",
    "                        [2, 0, -2],\n",
    "                        [1, 0, -1]])\n",
    "\n",
    "    sobel_y = np.array([[1, 2, 1],\n",
    "                        [0, 0, 0],\n",
    "                        [-1, -2, -1]])\n",
    "\n",
    "    gradient_x = convolve2d(image, sobel_x)\n",
    "    gradient_y = convolve2d(image, sobel_y)\n",
    "    gradient_magnitude = np.sqrt(gradient_x ** 2 + gradient_y ** 2)\n",
    "\n",
    "    return gradient_magnitude, gradient_x, gradient_y"
   ]
  },
  {
   "cell_type": "markdown",
   "metadata": {},
   "source": [
    "## Gaussian filter"
   ]
  },
  {
   "cell_type": "code",
   "execution_count": null,
   "metadata": {},
   "outputs": [],
   "source": [
    "def gaussian_kernel(size, sigma=1):\n",
    "    \"\"\"Generates a Gaussian kernel.\"\"\"\n",
    "    kernel = np.fromfunction(\n",
    "        lambda x, y: (1 / (2 * np.pi * sigma ** 2)) *\n",
    "                     np.exp(-((x - (size - 1) / 2) ** 2 + (y - (size - 1) / 2) ** 2) / (2 * sigma ** 2)),\n",
    "        (size, size)\n",
    "    )\n",
    "    return kernel / np.sum(kernel)  # Normalize the kernel\n",
    "\n",
    "\n",
    "def apply_gaussian_filter(image, kernel_size=5, sigma=1):\n",
    "    kernel = gaussian_kernel(kernel_size, sigma)\n",
    "    filtered_image = convolve2d(image, kernel)\n",
    "    return filtered_image\n"
   ]
  },
  {
   "cell_type": "markdown",
   "metadata": {},
   "source": [
    "## HOG"
   ]
  },
  {
   "cell_type": "code",
   "execution_count": null,
   "metadata": {},
   "outputs": [],
   "source": [
    "from skimage.feature import hog\n",
    "from skimage import exposure\n",
    "\n",
    "def apply_hog(image):\n",
    "    fd, hog_image = hog(\n",
    "        image,\n",
    "        orientations=2,\n",
    "        pixels_per_cell=(4, 4),\n",
    "        cells_per_block=(1, 1),\n",
    "        block_norm='L2-Hys',\n",
    "        visualize=True\n",
    "    )\n",
    "\n",
    "    # Normalize the HOG image for better visualization\n",
    "    hog_image = exposure.rescale_intensity(hog_image, in_range=(0, 10))\n",
    "\n",
    "    return fd, hog_image  # Return both the HOG image and the feature descriptor"
   ]
  },
  {
   "cell_type": "code",
   "execution_count": null,
   "metadata": {},
   "outputs": [],
   "source": [
    "# Fetch the MNIST dataset\n",
    "mnist = fetch_openml('mnist_784', version=1)\n",
    "df = pd.DataFrame(mnist.data)\n",
    "df['label'] = mnist.target  # Add the labels to the DataFrame\n",
    "print(df.head())\n",
    "df.to_csv('raw.csv', index=False)\n",
    "print(\"MNIST dataset has been saved to raw.csv\")\n",
    "\n",
    "# Extract images and labels\n",
    "images = df.iloc[:, :-1].values  # All columns except the last\n",
    "labels = df.iloc[:, -1].values  # Last column (labels)\n",
    "\n",
    "sobel_images = []\n",
    "hog_images = []\n",
    "hog_fds = []\n",
    "gaussian_images = []\n",
    "\n",
    "# Process each image\n",
    "counter = 0\n",
    "for image in images:\n",
    "    image_reshaped = image.reshape(28, 28)\n",
    "    gaussian_image = apply_gaussian_filter(image_reshaped, kernel_size=5, sigma=1)\n",
    "    gaussian_images.append(gaussian_image.flatten())\n",
    "    print(\"Gau\")\n",
    "    sobel_image = apply_sobel_filters(image_reshaped)\n",
    "    sobel_images.append(sobel_image.flatten())\n",
    "    print(\"Sob\")\n",
    "    fd, hog_image = apply_hog(image)\n",
    "    hog_images.append(hog_image.flatten())\n",
    "    hog_fds.append(fd)\n",
    "    print(\"HOG\")\n",
    "    print(counter)\n",
    "    counter += 1\n",
    "\n",
    "sobel_df = pd.DataFrame(sobel_images)\n",
    "gaussian_df = pd.DataFrame(gaussian_images)\n",
    "hog_df = pd.DataFrame(hog_fds)\n",
    "sobel_hog_df = df.concat([sobel_df, hog_df], axis=1)\n",
    "gaussian_hog_df = df.concat([gaussian_df, hog_df], axis=1)\n",
    "\n",
    "sobel_df['label'] = labels\n",
    "sobel_df.to_csv('sobel.csv', index=False)\n",
    "print(\"sobel images have been saved to sobel.csv\")\n",
    "\n",
    "gaussian_df['label'] = labels\n",
    "gaussian_df.to_csv('gaussian.csv', index=False)\n",
    "print(\"gaussian images have been saved to gaussian.csv\")\n",
    "\n",
    "sobel_hog_df['label'] = labels\n",
    "sobel_hog_df.to_csv('sobel_hog.csv', index=False)\n",
    "print(\"sobel+hog features have been saved to sobel_hog.csv\")\n",
    "\n",
    "gaussian_hog_df['label'] = labels\n",
    "gaussian_hog_df.to_csv('gaussian_hog.csv', index=False)\n",
    "print(\"gaussian+hog features have been saved to gaussian_hog.csv\")"
   ]
  }
 ],
 "metadata": {
  "kernelspec": {
   "display_name": "Python 3",
   "language": "python",
   "name": "python3"
  },
  "language_info": {
   "name": "python",
   "version": "3.12.4"
  }
 },
 "nbformat": 4,
 "nbformat_minor": 2
}
