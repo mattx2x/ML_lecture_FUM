{
 "cells": [
  {
   "metadata": {},
   "cell_type": "markdown",
   "source": "",
   "id": "97871b43f15c029b"
  },
  {
   "metadata": {
    "ExecuteTime": {
     "end_time": "2024-11-20T07:42:45.174261Z",
     "start_time": "2024-11-20T07:42:45.168899Z"
    }
   },
   "cell_type": "code",
   "source": [
    "import numpy as np\n",
    "import matplotlib.pyplot as plt"
   ],
   "id": "3d5b9aa3422e9f23",
   "outputs": [],
   "execution_count": 7
  },
  {
   "metadata": {
    "ExecuteTime": {
     "end_time": "2024-11-20T07:42:52.204303Z",
     "start_time": "2024-11-20T07:42:45.206273Z"
    }
   },
   "cell_type": "code",
   "source": [
    "from sklearn.datasets import fetch_openml\n",
    "\n",
    "# Fetch the MNIST dataset\n",
    "mnist = fetch_openml('mnist_784', version=1)\n",
    "\n",
    "# Access the data and target\n",
    "X, y = mnist['data'], mnist['target']\n",
    "\n",
    "# Display the shape of the data\n",
    "print(\"Data shape:\", X.shape)\n",
    "print(\"Target shape:\", y.shape)\n",
    "print(type(mnist))\n"
   ],
   "id": "947bc8fc9b275d4e",
   "outputs": [
    {
     "name": "stdout",
     "output_type": "stream",
     "text": [
      "Data shape: (70000, 784)\n",
      "Target shape: (70000,)\n",
      "<class 'sklearn.utils._bunch.Bunch'>\n"
     ]
    }
   ],
   "execution_count": 8
  },
  {
   "metadata": {
    "ExecuteTime": {
     "end_time": "2024-11-20T07:42:52.403709Z",
     "start_time": "2024-11-20T07:42:52.255868Z"
    }
   },
   "cell_type": "code",
   "source": [
    "import pandas as pd\n",
    "X = pd.DataFrame(mnist['data'])\n",
    "y = pd.Series(mnist['target'], name='target')\n",
    "\n",
    "# Combine the features and target into a single DataFrame\n",
    "mnist_df = pd.concat([X, y], axis=1)\n",
    "\n",
    "# Display the first few rows of the DataFrame\n",
    "print(mnist_df.head())"
   ],
   "id": "9af5ac81e7b2ee32",
   "outputs": [
    {
     "name": "stdout",
     "output_type": "stream",
     "text": [
      "   pixel1  pixel2  pixel3  pixel4  pixel5  pixel6  pixel7  pixel8  pixel9  \\\n",
      "0       0       0       0       0       0       0       0       0       0   \n",
      "1       0       0       0       0       0       0       0       0       0   \n",
      "2       0       0       0       0       0       0       0       0       0   \n",
      "3       0       0       0       0       0       0       0       0       0   \n",
      "4       0       0       0       0       0       0       0       0       0   \n",
      "\n",
      "   pixel10  ...  pixel776  pixel777  pixel778  pixel779  pixel780  pixel781  \\\n",
      "0        0  ...         0         0         0         0         0         0   \n",
      "1        0  ...         0         0         0         0         0         0   \n",
      "2        0  ...         0         0         0         0         0         0   \n",
      "3        0  ...         0         0         0         0         0         0   \n",
      "4        0  ...         0         0         0         0         0         0   \n",
      "\n",
      "   pixel782  pixel783  pixel784  target  \n",
      "0         0         0         0       5  \n",
      "1         0         0         0       0  \n",
      "2         0         0         0       4  \n",
      "3         0         0         0       1  \n",
      "4         0         0         0       9  \n",
      "\n",
      "[5 rows x 785 columns]\n"
     ]
    }
   ],
   "execution_count": 9
  },
  {
   "metadata": {
    "ExecuteTime": {
     "end_time": "2024-11-20T07:42:52.461740Z",
     "start_time": "2024-11-20T07:42:52.454682Z"
    }
   },
   "cell_type": "code",
   "source": "print(len(X.values[0]))",
   "id": "3434ee93474434e7",
   "outputs": [
    {
     "name": "stdout",
     "output_type": "stream",
     "text": [
      "784\n"
     ]
    }
   ],
   "execution_count": 10
  },
  {
   "metadata": {
    "ExecuteTime": {
     "end_time": "2024-11-20T07:42:52.528140Z",
     "start_time": "2024-11-20T07:42:52.517488Z"
    }
   },
   "cell_type": "code",
   "source": [
    "from skimage.feature import hog\n",
    "\n",
    "def convolve2d(image, kernel):\n",
    "    # Get the dimensions of the kernel\n",
    "    kernel_height, kernel_width = kernel.shape\n",
    "    # Calculate the padding size\n",
    "    pad_height = kernel_height // 2\n",
    "    pad_width = kernel_width // 2\n",
    "    \n",
    "    # Pad the image to handle borders\n",
    "    padded_image = np.pad(image, ((pad_height, pad_height), (pad_width, pad_width)), mode='constant', constant_values=0)\n",
    "    \n",
    "    # Get the dimensions of the padded image\n",
    "    padded_height, padded_width = padded_image.shape\n",
    "    \n",
    "    # Create an output array\n",
    "    output = np.zeros_like(image, dtype=np.float64)\n",
    "    \n",
    "    # Perform convolution\n",
    "    for i in range(pad_height, padded_height - pad_height):\n",
    "        for j in range(pad_width, padded_width - pad_width):\n",
    "            # Extract the region of interest\n",
    "            region = padded_image[i - pad_height:i + pad_height + 1, j - pad_width:j + pad_width + 1]\n",
    "            # Apply the kernel\n",
    "            output[i - pad_height, j - pad_width] = np.sum(region * kernel)\n",
    "    \n",
    "    return output\n",
    "\n",
    "def apply_sobel_filters(image):\n",
    "    # Sobel kernels\n",
    "    sobel_x = np.array([[1, 0, -1],\n",
    "                         [2, 0, -2],\n",
    "                         [1, 0, -1]])\n",
    "\n",
    "    sobel_y = np.array([[1, 2, 1],\n",
    "                         [0, 0, 0],\n",
    "                         [-1, -2, -1]])\n",
    "\n",
    "    # Apply Sobel filters\n",
    "    gradient_x = convolve2d(image, sobel_x)\n",
    "    gradient_y = convolve2d(image, sobel_y)\n",
    "\n",
    "    return gradient_x, gradient_y"
   ],
   "id": "fa5b52ae264e0e16",
   "outputs": [],
   "execution_count": 11
  },
  {
   "metadata": {
    "ExecuteTime": {
     "end_time": "2024-11-20T08:51:50.318067Z",
     "start_time": "2024-11-20T08:51:50.293894Z"
    }
   },
   "cell_type": "code",
   "source": [
    "def apply_gaussian_filter(image, sigma=1.0):\n",
    "    # Create a Gaussian kernel\n",
    "    size = int(2 * np.ceil(2 * sigma) + 1)  # Kernel size\n",
    "    x = np.linspace(-size // 2, size // 2, size)\n",
    "    y = np.linspace(-size // 2, size // 2, size)\n",
    "    x, y = np.meshgrid(x, y)\n",
    "    \n",
    "    # Gaussian function\n",
    "    gaussian_kernel = np.exp(-(x**2 + y**2) / (2 * sigma**2))\n",
    "    gaussian_kernel /= np.sum(gaussian_kernel)  # Normalize the kernel\n",
    "\n",
    "    # Apply Gaussian filter\n",
    "    smoothed_image = convolve2d(image, gaussian_kernel)\n",
    "\n",
    "    return smoothed_image\n"
   ],
   "id": "bc8f07fd8038c0a1",
   "outputs": [],
   "execution_count": 21
  },
  {
   "metadata": {
    "ExecuteTime": {
     "end_time": "2024-11-20T07:42:56.065262Z",
     "start_time": "2024-11-20T07:42:52.572581Z"
    }
   },
   "cell_type": "code",
   "source": [
    "# Load the image\n",
    "features = []\n",
    "for image in X.values:\n",
    "    image = image.reshape(28, 28)\n",
    "\n",
    "    # Apply Sobel filters\n",
    "    gradient_x, gradient_y = apply_sobel_filters(image)\n",
    "    \n",
    "    G = np.sqrt(gradient_x**2 + gradient_y**2)\n",
    "    \n",
    "    fd, hog_image = hog(\n",
    "    image,\n",
    "    orientations=8,\n",
    "    pixels_per_cell=(8, 8),\n",
    "    cells_per_block=(1, 1),\n",
    "    visualize=True,\n",
    "    )\n",
    "    \n",
    "    features.append(np.concatenate((G.flatten(), fd)))\n",
    "    \n",
    "    \n",
    "np.save('features.npy',features)"
   ],
   "id": "dcad8f92f0ff8908",
   "outputs": [
    {
     "ename": "KeyboardInterrupt",
     "evalue": "",
     "output_type": "error",
     "traceback": [
      "\u001B[1;31m---------------------------------------------------------------------------\u001B[0m",
      "\u001B[1;31mKeyboardInterrupt\u001B[0m                         Traceback (most recent call last)",
      "Cell \u001B[1;32mIn[12], line 11\u001B[0m\n\u001B[0;32m      7\u001B[0m     gradient_x, gradient_y \u001B[38;5;241m=\u001B[39m apply_sobel_filters(image)\n\u001B[0;32m      9\u001B[0m     G \u001B[38;5;241m=\u001B[39m np\u001B[38;5;241m.\u001B[39msqrt(gradient_x\u001B[38;5;241m*\u001B[39m\u001B[38;5;241m*\u001B[39m\u001B[38;5;241m2\u001B[39m \u001B[38;5;241m+\u001B[39m gradient_y\u001B[38;5;241m*\u001B[39m\u001B[38;5;241m*\u001B[39m\u001B[38;5;241m2\u001B[39m)\n\u001B[1;32m---> 11\u001B[0m     fd, hog_image \u001B[38;5;241m=\u001B[39m \u001B[43mhog\u001B[49m\u001B[43m(\u001B[49m\n\u001B[0;32m     12\u001B[0m \u001B[43m    \u001B[49m\u001B[43mimage\u001B[49m\u001B[43m,\u001B[49m\n\u001B[0;32m     13\u001B[0m \u001B[43m    \u001B[49m\u001B[43morientations\u001B[49m\u001B[38;5;241;43m=\u001B[39;49m\u001B[38;5;241;43m8\u001B[39;49m\u001B[43m,\u001B[49m\n\u001B[0;32m     14\u001B[0m \u001B[43m    \u001B[49m\u001B[43mpixels_per_cell\u001B[49m\u001B[38;5;241;43m=\u001B[39;49m\u001B[43m(\u001B[49m\u001B[38;5;241;43m8\u001B[39;49m\u001B[43m,\u001B[49m\u001B[43m \u001B[49m\u001B[38;5;241;43m8\u001B[39;49m\u001B[43m)\u001B[49m\u001B[43m,\u001B[49m\n\u001B[0;32m     15\u001B[0m \u001B[43m    \u001B[49m\u001B[43mcells_per_block\u001B[49m\u001B[38;5;241;43m=\u001B[39;49m\u001B[43m(\u001B[49m\u001B[38;5;241;43m1\u001B[39;49m\u001B[43m,\u001B[49m\u001B[43m \u001B[49m\u001B[38;5;241;43m1\u001B[39;49m\u001B[43m)\u001B[49m\u001B[43m,\u001B[49m\n\u001B[0;32m     16\u001B[0m \u001B[43m    \u001B[49m\u001B[43mvisualize\u001B[49m\u001B[38;5;241;43m=\u001B[39;49m\u001B[38;5;28;43;01mTrue\u001B[39;49;00m\u001B[43m,\u001B[49m\n\u001B[0;32m     17\u001B[0m \u001B[43m    \u001B[49m\u001B[43m)\u001B[49m\n\u001B[0;32m     19\u001B[0m     features\u001B[38;5;241m.\u001B[39mappend(np\u001B[38;5;241m.\u001B[39mconcatenate((G\u001B[38;5;241m.\u001B[39mflatten(), fd)))\n\u001B[0;32m     22\u001B[0m np\u001B[38;5;241m.\u001B[39msave(\u001B[38;5;124m'\u001B[39m\u001B[38;5;124mfeatures.npy\u001B[39m\u001B[38;5;124m'\u001B[39m,features)\n",
      "File \u001B[1;32m~\\AppData\\Local\\Programs\\Python\\Python312\\Lib\\site-packages\\skimage\\_shared\\utils.py:438\u001B[0m, in \u001B[0;36mchannel_as_last_axis.__call__.<locals>.fixed_func\u001B[1;34m(*args, **kwargs)\u001B[0m\n\u001B[0;32m    435\u001B[0m channel_axis \u001B[38;5;241m=\u001B[39m kwargs\u001B[38;5;241m.\u001B[39mget(\u001B[38;5;124m'\u001B[39m\u001B[38;5;124mchannel_axis\u001B[39m\u001B[38;5;124m'\u001B[39m, \u001B[38;5;28;01mNone\u001B[39;00m)\n\u001B[0;32m    437\u001B[0m \u001B[38;5;28;01mif\u001B[39;00m channel_axis \u001B[38;5;129;01mis\u001B[39;00m \u001B[38;5;28;01mNone\u001B[39;00m:\n\u001B[1;32m--> 438\u001B[0m     \u001B[38;5;28;01mreturn\u001B[39;00m \u001B[43mfunc\u001B[49m\u001B[43m(\u001B[49m\u001B[38;5;241;43m*\u001B[39;49m\u001B[43margs\u001B[49m\u001B[43m,\u001B[49m\u001B[43m \u001B[49m\u001B[38;5;241;43m*\u001B[39;49m\u001B[38;5;241;43m*\u001B[39;49m\u001B[43mkwargs\u001B[49m\u001B[43m)\u001B[49m\n\u001B[0;32m    440\u001B[0m \u001B[38;5;66;03m# TODO: convert scalars to a tuple in anticipation of eventually\u001B[39;00m\n\u001B[0;32m    441\u001B[0m \u001B[38;5;66;03m#       supporting a tuple of channel axes. Right now, only an\u001B[39;00m\n\u001B[0;32m    442\u001B[0m \u001B[38;5;66;03m#       integer or a single-element tuple is supported, though.\u001B[39;00m\n\u001B[0;32m    443\u001B[0m \u001B[38;5;28;01mif\u001B[39;00m np\u001B[38;5;241m.\u001B[39misscalar(channel_axis):\n",
      "File \u001B[1;32m~\\AppData\\Local\\Programs\\Python\\Python312\\Lib\\site-packages\\skimage\\feature\\_hog.py:246\u001B[0m, in \u001B[0;36mhog\u001B[1;34m(image, orientations, pixels_per_cell, cells_per_block, block_norm, visualize, transform_sqrt, feature_vector, channel_axis)\u001B[0m\n\u001B[0;32m    243\u001B[0m c_row, c_col \u001B[38;5;241m=\u001B[39m pixels_per_cell\n\u001B[0;32m    244\u001B[0m b_row, b_col \u001B[38;5;241m=\u001B[39m cells_per_block\n\u001B[1;32m--> 246\u001B[0m n_cells_row \u001B[38;5;241m=\u001B[39m \u001B[38;5;28;43mint\u001B[39;49m\u001B[43m(\u001B[49m\u001B[43ms_row\u001B[49m\u001B[43m \u001B[49m\u001B[38;5;241;43m/\u001B[39;49m\u001B[38;5;241;43m/\u001B[39;49m\u001B[43m \u001B[49m\u001B[43mc_row\u001B[49m\u001B[43m)\u001B[49m  \u001B[38;5;66;03m# number of cells along row-axis\u001B[39;00m\n\u001B[0;32m    247\u001B[0m n_cells_col \u001B[38;5;241m=\u001B[39m \u001B[38;5;28mint\u001B[39m(s_col \u001B[38;5;241m/\u001B[39m\u001B[38;5;241m/\u001B[39m c_col)  \u001B[38;5;66;03m# number of cells along col-axis\u001B[39;00m\n\u001B[0;32m    249\u001B[0m \u001B[38;5;66;03m# compute orientations integral images\u001B[39;00m\n",
      "\u001B[1;31mKeyboardInterrupt\u001B[0m: "
     ]
    }
   ],
   "execution_count": 12
  },
  {
   "metadata": {
    "ExecuteTime": {
     "end_time": "2024-11-20T07:43:00.027083Z",
     "start_time": "2024-11-20T07:42:59.831032Z"
    }
   },
   "cell_type": "code",
   "source": "features = np.load('features.npy')",
   "id": "9d4190dff683b5bb",
   "outputs": [],
   "execution_count": 13
  },
  {
   "metadata": {
    "ExecuteTime": {
     "end_time": "2024-11-20T07:43:03.097943Z",
     "start_time": "2024-11-20T07:43:02.080990Z"
    }
   },
   "cell_type": "code",
   "source": [
    "X_minus_mean = X - X.mean()\n",
    "features_minus_mean = features - np.mean(features)"
   ],
   "id": "fa5b168d115fea7c",
   "outputs": [],
   "execution_count": 14
  },
  {
   "metadata": {
    "ExecuteTime": {
     "end_time": "2024-11-20T07:43:05.735651Z",
     "start_time": "2024-11-20T07:43:05.440589Z"
    }
   },
   "cell_type": "code",
   "source": [
    "# Truncate to 840 elements\n",
    "truncated_features = features_minus_mean[100][:840]\n",
    "\n",
    "# Reshape to (28, 30)\n",
    "reshaped_features = truncated_features.reshape(28, 30)\n",
    "\n",
    "# Visualize\n",
    "plt.imshow(abs(reshaped_features), cmap='gray')\n",
    "plt.axis('off')\n",
    "plt.show()\n"
   ],
   "id": "5ffbf8ec153dcc0f",
   "outputs": [
    {
     "data": {
      "text/plain": [
       "<Figure size 640x480 with 1 Axes>"
      ],
      "image/png": "[encoded data removed]"
     },
     "metadata": {},
     "output_type": "display_data"
    }
   ],
   "execution_count": 15
  },
  {
   "metadata": {
    "ExecuteTime": {
     "end_time": "2024-11-20T07:43:09.308856Z",
     "start_time": "2024-11-20T07:43:09.299606Z"
    }
   },
   "cell_type": "code",
   "source": "features_minus_mean",
   "id": "d2db784a5ef534fa",
   "outputs": [
    {
     "data": {
      "text/plain": [
       "array([[-168.18035024, -168.18035024, -168.18035024, ..., -167.77584488,\n",
       "        -167.88928854, -167.77138648],\n",
       "       [-168.18035024, -168.18035024, -168.18035024, ..., -168.18035024,\n",
       "        -168.13375847, -168.11946755],\n",
       "       [-168.18035024, -168.18035024, -168.18035024, ..., -168.18035024,\n",
       "        -168.18035024, -167.58176627],\n",
       "       ...,\n",
       "       [-168.18035024, -168.18035024, -168.18035024, ..., -168.18035024,\n",
       "        -168.18035024, -168.18035024],\n",
       "       [-168.18035024, -168.18035024, -168.18035024, ..., -168.18035024,\n",
       "        -167.68487639, -167.80960922],\n",
       "       [-168.18035024, -168.18035024, -168.18035024, ..., -168.13489996,\n",
       "        -168.18035024, -168.18035024]])"
      ]
     },
     "execution_count": 16,
     "metadata": {},
     "output_type": "execute_result"
    }
   ],
   "execution_count": 16
  },
  {
   "metadata": {
    "ExecuteTime": {
     "end_time": "2024-11-20T07:44:49.638998Z",
     "start_time": "2024-11-20T07:44:35.611269Z"
    }
   },
   "cell_type": "code",
   "source": [
    "import numpy as np\n",
    "import matplotlib.pyplot as plt\n",
    "from sklearn.decomposition import PCA\n",
    "\n",
    "# Assuming 'features' is your original dataset\n",
    "pca = PCA()\n",
    "pca.fit(features_minus_mean)\n",
    "\n",
    "# Calculate the explained variance ratio\n",
    "explained_variance_ratio = pca.explained_variance_ratio_\n",
    "\n",
    "# Calculate cumulative variance\n",
    "cumulative_variance = np.cumsum(explained_variance_ratio) * 100\n",
    "n_component = np.argmax(cumulative_variance >= 90) + 1\n",
    "print(n_component)\n",
    "# Plotting\n",
    "plt.ylabel('% Variance Explained')\n",
    "plt.xlabel('# of Features')\n",
    "plt.title('PCA Variance Explained')\n",
    "plt.ylim(0, 110)\n",
    "plt.axhline(y=90, color='r', linestyle='--')\n",
    "plt.plot(cumulative_variance)\n",
    "plt.show()\n"
   ],
   "id": "71b22dfaeb95004a",
   "outputs": [
    {
     "name": "stdout",
     "output_type": "stream",
     "text": [
      "150\n"
     ]
    },
    {
     "data": {
      "text/plain": [
       "<Figure size 640x480 with 1 Axes>"
      ],
      "image/png": "[encoded data removed]"
     },
     "metadata": {},
     "output_type": "display_data"
    }
   ],
   "execution_count": 19
  },
  {
   "metadata": {
    "ExecuteTime": {
     "end_time": "2024-11-20T07:46:21.577283Z",
     "start_time": "2024-11-20T07:46:12.722062Z"
    }
   },
   "cell_type": "code",
   "source": [
    "X_reduced = (PCA(n_components=n_component)).fit_transform(features_minus_mean)\n",
    "print(X_reduced.shape)"
   ],
   "id": "61b6f2f3aa0f3e0",
   "outputs": [
    {
     "name": "stdout",
     "output_type": "stream",
     "text": [
      "(70000, 150)\n"
     ]
    }
   ],
   "execution_count": 20
  },
  {
   "metadata": {},
   "cell_type": "markdown",
   "source": "### phase 3",
   "id": "2876922edaff7459"
  },
  {
   "metadata": {
    "ExecuteTime": {
     "end_time": "2024-11-21T09:45:37.328626Z",
     "start_time": "2024-11-21T09:33:39.090393Z"
    }
   },
   "cell_type": "code",
   "source": [
    "from sklearn.model_selection import train_test_split, GridSearchCV\n",
    "from sklearn.tree import DecisionTreeClassifier\n",
    "import pandas as pd\n",
    "\n",
    "# Load the Iris dataset\n",
    "data = pd.read_csv('raw_reduced.csv')\n",
    "X = data.iloc[:, :-1].values  # All columns except the last\n",
    "y = data.iloc[:, -1].values  # labels\n",
    "\n",
    "# Split data into training and testing sets\n",
    "X_train, X_test, y_train, y_test = train_test_split(X, y, test_size=0.2, random_state=42)\n",
    "\n",
    "# Define the Decision Tree model\n",
    "model = DecisionTreeClassifier(random_state=42)\n",
    "\n",
    "# Create a hyperparameter grid\n",
    "param_grid = {\n",
    "    'max_depth': [3, 5, 10],\n",
    "    'min_samples_split': [2, 5, 10],\n",
    "    'criterion': ['gini', 'entropy']\n",
    "}\n",
    "\n",
    "# Set up GridSearchCV with 5-fold cross-validation\n",
    "grid_search = GridSearchCV(estimator=model, param_grid=param_grid, cv=5, scoring='accuracy')\n",
    "\n",
    "# Fit the model on the training data\n",
    "grid_search.fit(X_train, y_train)\n",
    "\n",
    "# Print the best hyperparameters and accuracy score\n",
    "print(\"Best Hyperparameters:\", grid_search.best_params_)\n",
    "print(\"Best Accuracy (CV):\", grid_search.best_score_)\n",
    "\n",
    "# Evaluate the best model on the test data\n",
    "best_model = grid_search.best_estimator_\n",
    "test_accuracy = best_model.score(X_test, y_test)\n",
    "print(\"Test Accuracy:\", test_accuracy)"
   ],
   "id": "9f43809e85117d9d",
   "outputs": [
    {
     "name": "stdout",
     "output_type": "stream",
     "text": [
      "Best Hyperparameters: {'criterion': 'entropy', 'max_depth': 10, 'min_samples_split': 5}\n",
      "Best Accuracy (CV): 0.8143571428571429\n",
      "Test Accuracy: 0.8220714285714286\n"
     ]
    }
   ],
   "execution_count": 1
  },
  {
   "metadata": {
    "ExecuteTime": {
     "end_time": "2024-11-21T10:22:56.685180Z",
     "start_time": "2024-11-21T09:46:13.651Z"
    }
   },
   "cell_type": "code",
   "source": [
    "from sklearn.model_selection import train_test_split, GridSearchCV\n",
    "from sklearn.tree import DecisionTreeClassifier\n",
    "import pandas as pd\n",
    "\n",
    "# Load the Iris dataset\n",
    "data = pd.read_csv('mnist_sobel.csv')\n",
    "X = data.iloc[:, :-1].values  # All columns except the last\n",
    "y = data.iloc[:, -1].values  # labels\n",
    "\n",
    "# Split data into training and testing sets\n",
    "X_train, X_test, y_train, y_test = train_test_split(X, y, test_size=0.2, random_state=42)\n",
    "\n",
    "# Define the Decision Tree model\n",
    "model = DecisionTreeClassifier(random_state=42)\n",
    "\n",
    "# Create a hyperparameter grid\n",
    "param_grid = {\n",
    "    'max_depth': [3, 5, 10],\n",
    "    'min_samples_split': [2, 5, 10],\n",
    "    'criterion': ['gini', 'entropy']\n",
    "}\n",
    "\n",
    "# Set up GridSearchCV with 5-fold cross-validation\n",
    "grid_search = GridSearchCV(estimator=model, param_grid=param_grid, cv=5, scoring='accuracy')\n",
    "\n",
    "# Fit the model on the training data\n",
    "grid_search.fit(X_train, y_train)\n",
    "\n",
    "# Print the best hyperparameters and accuracy score\n",
    "print(\"Best Hyperparameters:\", grid_search.best_params_)\n",
    "print(\"Best Accuracy (CV):\", grid_search.best_score_)\n",
    "\n",
    "# Evaluate the best model on the test data\n",
    "best_model = grid_search.best_estimator_\n",
    "test_accuracy = best_model.score(X_test, y_test)\n",
    "print(\"Test Accuracy:\", test_accuracy)"
   ],
   "id": "70f221938148222",
   "outputs": [
    {
     "name": "stdout",
     "output_type": "stream",
     "text": [
      "Best Hyperparameters: {'criterion': 'entropy', 'max_depth': 10, 'min_samples_split': 10}\n",
      "Best Accuracy (CV): 0.8294642857142858\n",
      "Test Accuracy: 0.8352142857142857\n"
     ]
    }
   ],
   "execution_count": 3
  },
  {
   "metadata": {
    "jupyter": {
     "is_executing": true
    },
    "ExecuteTime": {
     "end_time": "2024-11-21T17:15:41.805265600Z",
     "start_time": "2024-11-21T11:01:56.714152Z"
    }
   },
   "cell_type": "code",
   "source": [
    "import numpy as np\n",
    "import pandas as pd\n",
    "from sklearn.model_selection import train_test_split\n",
    "from sklearn.svm import SVC\n",
    "from sklearn.metrics import classification_report, confusion_matrix\n",
    "import matplotlib.pyplot as plt\n",
    "\n",
    "# Step 1: Load the MNIST dataset from CSV\n",
    "# Replace 'mnist.csv' with the path to your MNIST CSV file\n",
    "mnist_data = pd.read_csv('raw_reduced.csv')\n",
    "\n",
    "# Step 2: Separate features and labels\n",
    "X = mnist_data.iloc[:, :-1].values  # All columns except the last\n",
    "y = mnist_data.iloc[:, -1].values  # labels\n",
    "\n",
    "# Step 3: Split the dataset into training and testing sets\n",
    "X_train, X_test, y_train, y_test = train_test_split(X, y, test_size=0.2, random_state=42)\n",
    "\n",
    "# Step 4: Create an SVM classifier\n",
    "model = SVC(kernel='linear')  # You can also try 'rbf', 'poly', etc.\n",
    "\n",
    "# Step 5: Train the model\n",
    "model.fit(X_train, y_train)\n",
    "\n",
    "# Step 6: Make predictions\n",
    "y_pred = model.predict(X_test)\n",
    "\n",
    "# Step 7: Evaluate the model\n",
    "print(\"Confusion Matrix:\")\n",
    "print(confusion_matrix(y_test, y_pred))\n",
    "print(\"\\nClassification Report:\")\n",
    "print(classification_report(y_test, y_pred))\n",
    "\n",
    "# Optional: Visualize some predictions\n",
    "def plot_digits(images, labels, predictions, n=10):\n",
    "    plt.figure(figsize=(10, 4))\n",
    "    for i in range(n):\n",
    "        plt.subplot(2, n, i + 1)\n",
    "        plt.imshow(images[i].reshape(28, 28), cmap='gray')\n",
    "        plt.title(f'True: {labels[i]}\\nPred: {predictions[i]}')\n",
    "        plt.axis('off')\n",
    "    plt.show()\n",
    "\n",
    "# Visualize the first 10 test images and their predictions\n",
    "plot_digits(X_test, y_test, y_pred, n=10)\n"
   ],
   "id": "48ab900905b27f8",
   "outputs": [],
   "execution_count": null
  }
 ],
 "metadata": {
  "kernelspec": {
   "display_name": "Python 3",
   "language": "python",
   "name": "python3"
  },
  "language_info": {
   "codemirror_mode": {
    "name": "ipython",
    "version": 2
   },
   "file_extension": ".py",
   "mimetype": "text/x-python",
   "name": "python",
   "nbconvert_exporter": "python",
   "pygments_lexer": "ipython2",
   "version": "2.7.6"
  }
 },
 "nbformat": 4,
 "nbformat_minor": 5
}
